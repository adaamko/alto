{
 "cells": [
  {
   "cell_type": "markdown",
   "metadata": {},
   "source": [
    "Initialization\n",
    "----------------\n",
    "First, we load alto and import all relevant packages for convenience.  Replace the version of the jar below with the current version."
   ]
  },
  {
   "cell_type": "code",
   "execution_count": 1,
   "metadata": {},
   "outputs": [],
   "source": [
    "interp.load.cp(os.Path(System.getProperty(\"user.dir\")+\"/build/libs/alto-2.3.5-SNAPSHOT-all.jar\"))"
   ]
  },
  {
   "cell_type": "code",
   "execution_count": 2,
   "metadata": {},
   "outputs": [
    {
     "data": {
      "text/plain": [
       "\u001b[32mimport \u001b[39m\u001b[36mde.up.ling.irtg._\n",
       "\u001b[39m\n",
       "\u001b[32mimport \u001b[39m\u001b[36mde.up.ling.irtg.algebra._\n",
       "\u001b[39m\n",
       "\u001b[32mimport \u001b[39m\u001b[36mde.up.ling.irtg.automata._\n",
       "\u001b[39m\n",
       "\u001b[32mimport \u001b[39m\u001b[36mde.up.ling.irtg.hom._\n",
       "\u001b[39m\n",
       "\u001b[32mimport \u001b[39m\u001b[36mde.up.ling.irtg.signature._\n",
       "\u001b[39m\n",
       "\u001b[32mimport \u001b[39m\u001b[36mde.up.ling.irtg.corpus._\n",
       "\u001b[39m\n",
       "\u001b[32mimport \u001b[39m\u001b[36mde.up.ling.irtg.codec._\n",
       "\u001b[39m\n",
       "\u001b[32mimport \u001b[39m\u001b[36mde.up.ling.irtg.util.FirstOrderModel\n",
       "\u001b[39m\n",
       "\u001b[32mimport \u001b[39m\u001b[36mde.up.ling.tree._\n",
       "\u001b[39m\n",
       "\u001b[32mimport \u001b[39m\u001b[36mde.saar.basic._\n",
       "\u001b[39m\n",
       "\u001b[32mimport \u001b[39m\u001b[36mde.up.ling.irtg.util.TestingTools._\n",
       "\n",
       "\u001b[39m\n",
       "\u001b[32mimport \u001b[39m\u001b[36mjava.io._\n",
       "\u001b[39m\n",
       "\u001b[32mimport \u001b[39m\u001b[36mcollection.JavaConverters._\n",
       "\n",
       "\u001b[39m\n",
       "\u001b[32mimport \u001b[39m\u001b[36mscala.language.implicitConversions;\n",
       "\n",
       "\u001b[39m\n",
       "defined \u001b[32mfunction\u001b[39m \u001b[36mintmap2integermap\u001b[39m\n",
       "defined \u001b[32mfunction\u001b[39m \u001b[36mstringmap2java\u001b[39m\n",
       "defined \u001b[32mfunction\u001b[39m \u001b[36mstring2tree\u001b[39m"
      ]
     },
     "execution_count": 2,
     "metadata": {},
     "output_type": "execute_result"
    }
   ],
   "source": [
    "import de.up.ling.irtg._\n",
    "import de.up.ling.irtg.algebra._\n",
    "import de.up.ling.irtg.automata._\n",
    "import de.up.ling.irtg.hom._\n",
    "import de.up.ling.irtg.signature._\n",
    "import de.up.ling.irtg.corpus._\n",
    "import de.up.ling.irtg.codec._\n",
    "import de.up.ling.irtg.util.FirstOrderModel\n",
    "import de.up.ling.tree._\n",
    "import de.saar.basic._\n",
    "import de.up.ling.irtg.util.TestingTools._\n",
    "\n",
    "import java.io._\n",
    "import collection.JavaConverters._\n",
    "\n",
    "import scala.language.implicitConversions;\n",
    "\n",
    "implicit def intmap2integermap(map:scala.collection.immutable.Map[String,Int]) = map.asJava.asInstanceOf[java.util.Map[String,java.lang.Integer]]\n",
    "implicit def stringmap2java(map:scala.collection.immutable.Map[String,String]) = map.asJava\n",
    "implicit def string2tree(s:String) = pt(s)\n"
   ]
  },
  {
   "cell_type": "markdown",
   "metadata": {},
   "source": [
    "Interpreted regular tree grammars\n",
    "--------------------------------------\n",
    "\n",
    "IRTGs are loaded by an input codec object. A codec reads IRTGs from input streams and generates an InterpretedTreeAutomaton representing the irtg."
   ]
  },
  {
   "cell_type": "code",
   "execution_count": 3,
   "metadata": {},
   "outputs": [
    {
     "data": {
      "text/plain": [
       "\u001b[36mic\u001b[39m: \u001b[32mIrtgInputCodec\u001b[39m = de.up.ling.irtg.codec.IrtgInputCodec@394b7504\n",
       "\u001b[36mfis\u001b[39m: \u001b[32mFileInputStream\u001b[39m = java.io.FileInputStream@677bdb4\n",
       "\u001b[36mirtg\u001b[39m: \u001b[32mInterpretedTreeAutomaton\u001b[39m = interpretation english: de.up.ling.irtg.algebra.StringAlgebra\n",
       "interpretation german: de.up.ling.irtg.algebra.StringAlgebra\n",
       "\n",
       "N -> r11 [1.0]\n",
       "  [english] telescope\n",
       "  [german] fernrohr\n",
       "\n",
       "P -> r12 [1.0]\n",
       "  [english] with\n",
       "  [german] mit\n",
       "\n",
       "V -> r8 [1.0]\n",
       "  [english] watches\n",
       "  [german] betrachtet\n",
       "\n",
       "Det -> r9 [1.0]\n",
       "  [english] the\n",
       "  [german] die\n",
       "\n",
       "N -> r10 [1.0]\n",
       "  [english] woman\n",
       "  [german] frau\n",
       "\n",
       "Det -> r9b [1.0]\n",
       "  [english] the\n",
       "  [german] dem\n",
       "\n",
       "NP -> r7 [1.0]\n",
       "  [english] john\n",
       "  [german] hans\n",
       "\n",
       "S! -> r1(NP, VP) [1.0]\n",
       "  [english] *(?1,?2)\n",
       "  [german] *(?1,?2)\n",
       "\n",
       "NP -> r2(Det, N) [1.0]\n",
       "  [english] *(?1,?2)\n",
       "  [german] *(?1,?2)\n",
       "\n",
       "..."
      ]
     },
     "execution_count": 3,
     "metadata": {},
     "output_type": "execute_result"
    }
   ],
   "source": [
    "val ic = new IrtgInputCodec()\n",
    "val fis = new FileInputStream(\"examples/scfg.irtg\")\n",
    "val irtg = ic.read(fis)"
   ]
  },
  {
   "cell_type": "markdown",
   "metadata": {},
   "source": [
    "An irtg can be used in different ways. parsing results in a chart:"
   ]
  },
  {
   "cell_type": "code",
   "execution_count": 4,
   "metadata": {},
   "outputs": [
    {
     "data": {
      "text/plain": [
       "\u001b[36mchart\u001b[39m: \u001b[32mTreeAutomaton\u001b[39m[\u001b[32m?0\u001b[39m] = 'N,6-7' -> r11 [1.0]\n",
       "'P,4-5' -> r12 [1.0]\n",
       "'V,1-2' -> r8 [1.0]\n",
       "'Det,2-3' -> r9 [1.0]\n",
       "'N,3-4' -> r10 [1.0]\n",
       "'Det,5-6' -> r9b [1.0]\n",
       "'NP,0-1' -> r7 [1.0]\n",
       "'VP,1-7' -> r4('V,1-2', 'NP,2-7') [1.0]\n",
       "'VP,1-4' -> r4('V,1-2', 'NP,2-4') [1.0]\n",
       "'NP,5-7' -> r2('Det,5-6', 'N,6-7') [1.0]\n",
       "'N,3-7' -> r3('N,3-4', 'PP,4-7') [1.0]\n",
       "'VP,1-7' -> r5('VP,1-4', 'PP,4-7') [1.0]\n",
       "'S,0-7'! -> r1('NP,0-1', 'VP,1-7') [1.0]\n",
       "'S,0-4' -> r1('NP,0-1', 'VP,1-4') [1.0]\n",
       "'NP,2-4' -> r2('Det,2-3', 'N,3-4') [1.0]\n",
       "'NP,2-7' -> r2('Det,2-3', 'N,3-7') [1.0]\n",
       "'PP,4-7' -> r6('P,4-5', 'NP,5-7') [1.0]\n"
      ]
     },
     "execution_count": 4,
     "metadata": {},
     "output_type": "execute_result"
    }
   ],
   "source": [
    "val chart = irtg.parse(Map(\"german\" -> \"hans betrachtet die frau mit dem fernrohr\"))"
   ]
  },
  {
   "cell_type": "markdown",
   "metadata": {},
   "source": [
    "The chart can then be used for viterbi decoding, resulting in a derivation tree:"
   ]
  },
  {
   "cell_type": "code",
   "execution_count": 5,
   "metadata": {},
   "outputs": [
    {
     "data": {
      "text/plain": [
       "\u001b[36mres4\u001b[39m: \u001b[32mTree\u001b[39m[\u001b[32mString\u001b[39m] = r1(r7,r5(r4(r8,r2(r9,r10)),r6(r12,r2(r9b,r11))))"
      ]
     },
     "execution_count": 5,
     "metadata": {},
     "output_type": "execute_result"
    }
   ],
   "source": [
    "chart.viterbi"
   ]
  },
  {
   "cell_type": "markdown",
   "metadata": {},
   "source": [
    "Alternatively, the irtg can be used to decode, i.e. to transfer from one interpretation to another.  In this case, the target is the english interpretation and the source is the german interpretation with a specific interpretation given."
   ]
  },
  {
   "cell_type": "code",
   "execution_count": 6,
   "metadata": {},
   "outputs": [
    {
     "data": {
      "text/plain": [
       "\u001b[36mres5\u001b[39m: \u001b[32mjava\u001b[39m.\u001b[32mutil\u001b[39m.\u001b[32mSet\u001b[39m[\u001b[32m?0\u001b[39m] = [[john, watches, the, woman, with, the, telescope]]"
      ]
     },
     "execution_count": 6,
     "metadata": {},
     "output_type": "execute_result"
    }
   ],
   "source": [
    "irtg.decode(\"english\", Map(\"german\" -> \"hans betrachtet die frau mit dem fernrohr\"))"
   ]
  },
  {
   "cell_type": "markdown",
   "metadata": {},
   "source": [
    "Algebras\n",
    "---------\n",
    "\n",
    "Algebras define operations generating an interpretation.  Their operations are a homomorphism of the derivation operations.\n",
    "\n",
    "Given an interpretation, an algebra can generate a chart describing the possible ways this interpretations could hav been constructed:"
   ]
  },
  {
   "cell_type": "code",
   "execution_count": 7,
   "metadata": {},
   "outputs": [
    {
     "data": {
      "text/plain": [
       "\u001b[36malg\u001b[39m: \u001b[32mStringAlgebra\u001b[39m = de.up.ling.irtg.algebra.StringAlgebra@3c338b7b\n",
       "\u001b[36mta_abc\u001b[39m: \u001b[32mTreeAutomaton\u001b[39m[\u001b[32mState\u001b[39m] = '1-2' -> b [1.0]\n",
       "'0-1' -> a [1.0]\n",
       "'2-3' -> c [1.0]\n",
       "'0-2' -> *('0-1', '1-2') [1.0]\n",
       "'0-3'! -> *('0-1', '1-3') [1.0]\n",
       "'1-3' -> *('1-2', '2-3') [1.0]\n",
       "'0-3'! -> *('0-2', '2-3') [1.0]\n"
      ]
     },
     "execution_count": 7,
     "metadata": {},
     "output_type": "execute_result"
    }
   ],
   "source": [
    "val alg = new StringAlgebra()\n",
    "val ta_abc = alg.decompose(alg.parseString(\"a b c\"))"
   ]
  },
  {
   "cell_type": "code",
   "execution_count": 8,
   "metadata": {},
   "outputs": [
    {
     "data": {
      "text/plain": [
       "\u001b[36mta_xyz\u001b[39m: \u001b[32mTreeAutomaton\u001b[39m[\u001b[32mState\u001b[39m] = '0-1' -> x [1.0]\n",
       "'2-3' -> z [1.0]\n",
       "'1-2' -> y [1.0]\n",
       "'0-2' -> *('0-1', '1-2') [1.0]\n",
       "'0-3'! -> *('0-1', '1-3') [1.0]\n",
       "'1-3' -> *('1-2', '2-3') [1.0]\n",
       "'0-3'! -> *('0-2', '2-3') [1.0]\n"
      ]
     },
     "execution_count": 8,
     "metadata": {},
     "output_type": "execute_result"
    }
   ],
   "source": [
    "val ta_xyz = alg.decompose(alg.parseString(\"x y z\"))"
   ]
  },
  {
   "cell_type": "code",
   "execution_count": 9,
   "metadata": {},
   "outputs": [
    {
     "data": {
      "text/plain": [
       "\u001b[36mres8\u001b[39m: \u001b[32mTreeAutomaton\u001b[39m[\u001b[32mPair\u001b[39m[\u001b[32mState\u001b[39m, \u001b[32mState\u001b[39m]] = "
      ]
     },
     "execution_count": 9,
     "metadata": {},
     "output_type": "execute_result"
    }
   ],
   "source": [
    "ta_abc.intersect(ta_xyz)"
   ]
  },
  {
   "cell_type": "code",
   "execution_count": 10,
   "metadata": {},
   "outputs": [
    {
     "data": {
      "text/plain": [
       "\u001b[36mta_abc2\u001b[39m: \u001b[32mTreeAutomaton\u001b[39m[\u001b[32mState\u001b[39m] = '1-2' -> b [1.0]\n",
       "'0-1' -> a [1.0]\n",
       "'2-3' -> c [1.0]\n",
       "'1-3' -> *('1-2', '2-3') [1.0]\n",
       "'0-2' -> *('0-1', '1-2') [1.0]\n",
       "'0-3'! -> *('0-1', '1-3') [1.0]\n",
       "'0-3'! -> *('0-2', '2-3') [1.0]\n",
       "\n",
       "\u001b[36mres9_1\u001b[39m: \u001b[32mTreeAutomaton\u001b[39m[\u001b[32mPair\u001b[39m[\u001b[32mState\u001b[39m, \u001b[32mState\u001b[39m]] = '1-2,1-2' -> b [1.0]\n",
       "'0-1,0-1' -> a [1.0]\n",
       "'2-3,2-3' -> c [1.0]\n",
       "'0-2,0-2' -> *('0-1,0-1', '1-2,1-2') [1.0]\n",
       "'0-3,0-3'! -> *('0-1,0-1', '1-3,1-3') [1.0]\n",
       "'0-3,0-3'! -> *('0-2,0-2', '2-3,2-3') [1.0]\n",
       "'1-3,1-3' -> *('1-2,1-2', '2-3,2-3') [1.0]\n"
      ]
     },
     "execution_count": 10,
     "metadata": {},
     "output_type": "execute_result"
    }
   ],
   "source": [
    "val ta_abc2 = alg.decompose(alg.parseString(\"a b c\"))\n",
    "ta_abc.intersect(ta_abc2)"
   ]
  },
  {
   "cell_type": "markdown",
   "metadata": {},
   "source": [
    "IRTGs\n",
    "-----\n",
    "An IRTG consists of a definition of derivation trees, a set of algebras and\n",
    "a homomorphism from the derivations to each algebra.\n",
    "The file format first has a definition of the interpretations and\n",
    "then a set of rules, each of which are followed by a corresponding interpretation for each algebra.\n",
    "\n",
    "input codecs are responsible for reading irtgs, we will read an example consisting of two interpretations: A string algebra mapping to sentences and a graph algebra mapping to an AMR representation."
   ]
  },
  {
   "cell_type": "code",
   "execution_count": 11,
   "metadata": {},
   "outputs": [
    {
     "data": {
      "text/plain": [
       "defined \u001b[32mfunction\u001b[39m \u001b[36mirtgFromFile\u001b[39m"
      ]
     },
     "execution_count": 11,
     "metadata": {},
     "output_type": "execute_result"
    }
   ],
   "source": [
    "def irtgFromFile(fname: String): InterpretedTreeAutomaton = {\n",
    "  val ic = new IrtgInputCodec()\n",
    "  ic.read(new FileInputStream(fname))\n",
    "}"
   ]
  },
  {
   "cell_type": "code",
   "execution_count": 12,
   "metadata": {},
   "outputs": [
    {
     "data": {
      "text/plain": [
       "\u001b[36mirtgStringGraph\u001b[39m: \u001b[32mInterpretedTreeAutomaton\u001b[39m = interpretation english: de.up.ling.irtg.algebra.StringAlgebra\n",
       "interpretation semantic: de.up.ling.irtg.algebra.graph.GraphAlgebra\n",
       "\n",
       "NP -> r4 [1.0]\n",
       "  [english] *(the,news)\n",
       "  [semantic] '(u<obj2> / news)'\n",
       "\n",
       "NE -> r2 [0.6]\n",
       "  [english] John\n",
       "  [semantic] '(u<root> / John)'\n",
       "\n",
       "NE -> r3 [0.4]\n",
       "  [english] Mary\n",
       "  [semantic] '(u<root> / Mary)'\n",
       "\n",
       "S! -> r1(NE, NE, NP) [1.0]\n",
       "  [english] *(?1,*(tells,*(?2,?3)))\n",
       "  [semantic] merge(merge(merge('(u<root> / tell :ARG0 (s<subj>) :ARG1 (o1<obj1>) :ARG2 (o2<obj2>))',?3),r_root_obj1(?2)),r_root_subj(?1))\n",
       "\n"
      ]
     },
     "execution_count": 12,
     "metadata": {},
     "output_type": "execute_result"
    }
   ],
   "source": [
    "val irtgStringGraph = irtgFromFile(\"examples/altoDemoStringToGraph.irtg\")"
   ]
  },
  {
   "cell_type": "code",
   "execution_count": 13,
   "metadata": {},
   "outputs": [
    {
     "data": {
      "text/plain": [
       "\u001b[36mta\u001b[39m: \u001b[32mTreeAutomaton\u001b[39m[\u001b[32m?0\u001b[39m] = 'NP,3-5' -> r4 [1.0]\n",
       "'NE,0-1' -> r2 [0.6]\n",
       "'NE,2-3' -> r3 [0.4]\n",
       "'S,0-5'! -> r1('NE,0-1', 'NE,2-3', 'NP,3-5') [1.0]\n"
      ]
     },
     "execution_count": 13,
     "metadata": {},
     "output_type": "execute_result"
    }
   ],
   "source": [
    "val ta = irtgStringGraph.parse(Map(\"english\" -> \"John tells Mary the news\"))"
   ]
  },
  {
   "cell_type": "markdown",
   "metadata": {},
   "source": [
    "We can now decode a sentence by supplying an input for one interpretation and generating all interpretations of another algebra consistent with this input."
   ]
  },
  {
   "cell_type": "code",
   "execution_count": 14,
   "metadata": {},
   "outputs": [
    {
     "data": {
      "text/plain": [
       "\u001b[36mres13_0\u001b[39m: \u001b[32mjava\u001b[39m.\u001b[32mutil\u001b[39m.\u001b[32mSet\u001b[39m[\u001b[32m?0\u001b[39m] = [[u_4<root>/tell -ARG0-> u_2<subj>/John; u_4 -ARG1-> u_1<obj1>/Mary; u_4 -ARG2-> u_3<obj2>/news]]\n",
       "\u001b[36mres13_1\u001b[39m: \u001b[32mjava\u001b[39m.\u001b[32mutil\u001b[39m.\u001b[32mSet\u001b[39m[\u001b[32m?0\u001b[39m] = [[u_11<root>/tell -ARG0-> u_9<subj>/Mary; u_11 -ARG1-> u_8<obj1>/John; u_11 -ARG2-> u_10<obj2>/news]]"
      ]
     },
     "execution_count": 14,
     "metadata": {},
     "output_type": "execute_result"
    }
   ],
   "source": [
    "irtgStringGraph.decode(\"semantic\", Map(\"english\" -> \"John tells Mary the news\"))\n",
    "irtgStringGraph.decode(\"semantic\", Map(\"english\" -> \"Mary tells John the news\"))"
   ]
  },
  {
   "cell_type": "markdown",
   "metadata": {},
   "source": [
    "Weighted tree grammars\n",
    "-------------------------\n",
    "Derivation in tree grammars may be weighted.  These allow the derivation process to not just pick any derivation, but the best one according to the weights.\n",
    "\n",
    "With these, PCFGs can be implemented among others.  We will now load a toy grammar, parse a sentence into a chart and use that chart to obtain the most probable structure."
   ]
  },
  {
   "cell_type": "code",
   "execution_count": 15,
   "metadata": {},
   "outputs": [
    {
     "data": {
      "text/plain": [
       "\u001b[36melephant\u001b[39m: \u001b[32mInterpretedTreeAutomaton\u001b[39m = interpretation i: de.up.ling.irtg.algebra.StringAlgebra\n",
       "\n",
       "NP -> r2 [0.3]\n",
       "  [i] john\n",
       "\n",
       "NP -> r4 [0.2]\n",
       "  [i] *(his,pyjamas)\n",
       "\n",
       "V -> r8 [1.0]\n",
       "  [i] shot\n",
       "\n",
       "P -> r10 [1.0]\n",
       "  [i] in\n",
       "\n",
       "NP -> r3 [0.2]\n",
       "  [i] *(an,elephant)\n",
       "\n",
       "NP -> r5(NP, PP) [0.3]\n",
       "  [i] *(?1,?2)\n",
       "\n",
       "S! -> r1(NP, VP) [1.0]\n",
       "  [i] *(?1,?2)\n",
       "\n",
       "PP -> r9(P, NP) [1.0]\n",
       "  [i] *(?1,?2)\n",
       "\n",
       "VP -> r7(VP, PP) [0.5]\n",
       "  [i] *(?1,?2)\n",
       "\n",
       "VP -> r6(V, NP) [0.5]\n",
       "  [i] *(?1,?2)\n",
       "\n"
      ]
     },
     "execution_count": 15,
     "metadata": {},
     "output_type": "execute_result"
    }
   ],
   "source": [
    "val elephant = irtgFromFile(\"examples/elephant-weighted.irtg\")"
   ]
  },
  {
   "cell_type": "code",
   "execution_count": 16,
   "metadata": {},
   "outputs": [
    {
     "data": {
      "text/plain": [
       "\u001b[36mchart\u001b[39m: \u001b[32mTreeAutomaton\u001b[39m[\u001b[32m?0\u001b[39m] = 'NP,0-1' -> r2 [0.3]\n",
       "'NP,5-7' -> r4 [0.2]\n",
       "'V,1-2' -> r8 [1.0]\n",
       "'P,4-5' -> r10 [1.0]\n",
       "'NP,2-4' -> r3 [0.2]\n",
       "'VP,1-4' -> r6('V,1-2', 'NP,2-4') [0.5]\n",
       "'VP,1-7' -> r6('V,1-2', 'NP,2-7') [0.5]\n",
       "'NP,2-7' -> r5('NP,2-4', 'PP,4-7') [0.3]\n",
       "'VP,1-7' -> r7('VP,1-4', 'PP,4-7') [0.5]\n",
       "'S,0-4' -> r1('NP,0-1', 'VP,1-4') [1.0]\n",
       "'S,0-7'! -> r1('NP,0-1', 'VP,1-7') [1.0]\n",
       "'PP,4-7' -> r9('P,4-5', 'NP,5-7') [1.0]\n"
      ]
     },
     "execution_count": 16,
     "metadata": {},
     "output_type": "execute_result"
    }
   ],
   "source": [
    "val chart = elephant.parse(Map(\"i\"->\"john shot an elephant in his pyjamas\"))"
   ]
  },
  {
   "cell_type": "markdown",
   "metadata": {},
   "source": [
    "We now have a chart with weights.  This chart is stored in a TreeAutomaton object, which allows to perform viterbi decoding.  viterbiRaw gives us a WeightedTree -- a tree consisting of the internal ids of the rules and a weight for this tree.  But let us have a look at the language this chart encode first.  The language consists of two trees: "
   ]
  },
  {
   "cell_type": "code",
   "execution_count": 17,
   "metadata": {},
   "outputs": [
    {
     "data": {
      "text/plain": [
       "\u001b[36mres16\u001b[39m: \u001b[32mjava\u001b[39m.\u001b[32mutil\u001b[39m.\u001b[32mSet\u001b[39m[\u001b[32mTree\u001b[39m[\u001b[32mString\u001b[39m]] = [r1(r2,r6(r8,r5(r3,r9(r10,r4)))), r1(r2,r7(r6(r8,r3),r9(r10,r4)))]"
      ]
     },
     "execution_count": 17,
     "metadata": {},
     "output_type": "execute_result"
    }
   ],
   "source": [
    "chart.language()"
   ]
  },
  {
   "cell_type": "code",
   "execution_count": 18,
   "metadata": {},
   "outputs": [
    {
     "data": {
      "text/plain": [
       "\u001b[36mtree\u001b[39m: \u001b[32mWeightedTree\u001b[39m = '1'('2','7'('6'('8','3'),'9'('10','4'))):0.0030000000000000005"
      ]
     },
     "execution_count": 18,
     "metadata": {},
     "output_type": "execute_result"
    }
   ],
   "source": [
    "val tree = chart.viterbiRaw()"
   ]
  },
  {
   "cell_type": "markdown",
   "metadata": {},
   "source": [
    "Alternatively, we can call viterbi() and obtain a tree consisting of the rule names as strings:"
   ]
  },
  {
   "cell_type": "code",
   "execution_count": 19,
   "metadata": {},
   "outputs": [
    {
     "data": {
      "text/plain": [
       "\u001b[36mstree\u001b[39m: \u001b[32mTree\u001b[39m[\u001b[32mString\u001b[39m] = r1(r2,r7(r6(r8,r3),r9(r10,r4)))"
      ]
     },
     "execution_count": 19,
     "metadata": {},
     "output_type": "execute_result"
    }
   ],
   "source": [
    "val stree = chart.viterbi()"
   ]
  },
  {
   "cell_type": "markdown",
   "metadata": {},
   "source": [
    "Querying for an interpretations of this tree gives us the sentence we originally used to construct the chart, no surprise there:"
   ]
  },
  {
   "cell_type": "code",
   "execution_count": 20,
   "metadata": {},
   "outputs": [
    {
     "data": {
      "text/plain": [
       "\u001b[36mres19\u001b[39m: \u001b[32mObject\u001b[39m = [john, shot, an, elephant, in, his, pyjamas]"
      ]
     },
     "execution_count": 20,
     "metadata": {},
     "output_type": "execute_result"
    }
   ],
   "source": [
    "elephant.interpret(stree, \"i\")"
   ]
  },
  {
   "cell_type": "markdown",
   "metadata": {},
   "source": [
    "IRTGs with multiple interpretations\n",
    "===================\n",
    "We now use the example grammar from Koller (2015), Semantic construction with graph grammars.  Instead of one interpretation (a string interpretation representing the sentence) we now have two interpretations:\n",
    "\n",
    " - a string interpretation representing the sentence and\n",
    " - a graph interpretation representing the semantics as an s-graph.\n",
    "\n",
    "Let's load the grammar and see what we can do."
   ]
  },
  {
   "cell_type": "code",
   "execution_count": 21,
   "metadata": {
    "scrolled": true
   },
   "outputs": [
    {
     "data": {
      "text/plain": [
       "\u001b[36miwcs\u001b[39m: \u001b[32mInterpretedTreeAutomaton\u001b[39m = interpretation string: de.up.ling.irtg.algebra.StringAlgebra\n",
       "interpretation graph: de.up.ling.irtg.algebra.graph.GraphAlgebra\n",
       "\n",
       "VP -> sleep [1.0]\n",
       "  [string] sleep\n",
       "  [graph] '(g<root> / sleep  :ARG0 (s<subj>))'\n",
       "\n",
       "NP -> boy [1.0]\n",
       "  [string] *(the,boy)\n",
       "  [graph] '(x<root> / boy)'\n",
       "\n",
       "VP -> go [1.0]\n",
       "  [string] go\n",
       "  [graph] '(g<root> / go  :ARG0 (s<subj>))'\n",
       "\n",
       "VP -> snore [1.0]\n",
       "  [string] snores\n",
       "  [graph] '(u<root> / snore :ARG0 (v<subj>))'\n",
       "\n",
       "RP -> who [1.0]\n",
       "  [string] who\n",
       "  [graph] '(u<root>)'\n",
       "\n",
       "VP -> sleeps [1.0]\n",
       "  [string] sleeps\n",
       "  [graph] '(g<root> / sleep  :ARG0 (s<subj>))'\n",
       "\n",
       "NP -> girl [1.0]\n",
       "  [string] *(the,girl)\n",
       "  [graph] '(x<root> / girl)'\n",
       "\n",
       "VP -> goes [1.0]\n",
       "  [string] goes\n",
       "  [graph] '(g<root> / go  :ARG0 (s<subj>))'\n",
       "\n",
       "NP -> mod_rc(NP, RC) [1.0]\n",
       "  [string] *(?1,?2)\n",
       "  [graph] merge(?1,?2)\n",
       "\n",
       "...\n",
       "\u001b[36mboyChart\u001b[39m: \u001b[32mTreeAutomaton\u001b[39m[\u001b[32m?0\u001b[39m] = 'VP,4-5' -> sleep [1.0]\n",
       "'NP,0-2' -> boy [1.0]\n",
       "'VP,2-5' -> want1('VP,4-5') [1.0]\n",
       "'S,0-5'! -> comb_subj('NP,0-2', 'VP,2-5') [1.0]\n"
      ]
     },
     "execution_count": 21,
     "metadata": {},
     "output_type": "execute_result"
    }
   ],
   "source": [
    "val iwcs = irtgFromFile(\"examples/hrg-iwcs15.irtg\")\n",
    "val boyChart = iwcs.parse(Map(\"string\" -> \"the boy wants to sleep\"))"
   ]
  },
  {
   "cell_type": "code",
   "execution_count": 22,
   "metadata": {},
   "outputs": [
    {
     "data": {
      "text/plain": [
       "\u001b[36mboyTree\u001b[39m: \u001b[32mTree\u001b[39m[\u001b[32mString\u001b[39m] = comb_subj(boy,want1(sleep))"
      ]
     },
     "execution_count": 22,
     "metadata": {},
     "output_type": "execute_result"
    }
   ],
   "source": [
    "val boyTree = boyChart.viterbi()"
   ]
  },
  {
   "cell_type": "code",
   "execution_count": 23,
   "metadata": {},
   "outputs": [
    {
     "data": {
      "text/plain": [
       "\u001b[36mres22\u001b[39m: \u001b[32mjava\u001b[39m.\u001b[32mutil\u001b[39m.\u001b[32mMap\u001b[39m[\u001b[32mString\u001b[39m, \u001b[32mObject\u001b[39m] = {string=[the, boy, wants, to, sleep], graph=[u_16<root>/want -ARG0-> u_15/boy; u_16 -ARG1-> u_17/sleep; u_17 -ARG0-> u_15]}"
      ]
     },
     "execution_count": 23,
     "metadata": {},
     "output_type": "execute_result"
    }
   ],
   "source": [
    "iwcs.interpret(boyTree)"
   ]
  },
  {
   "cell_type": "markdown",
   "metadata": {},
   "source": [
    "Nothing really new sofar, except that the interpretation of a derivation tree now gives us both a string (the sentence) and a graph (the semantics).\n",
    "\n",
    "The whole IRTG approach is different from other formalism because the sentence representation is not special but just another interpretation of the derivation.  We could just as well have started from the semantics interpretation and then go to the string (i.e. sentence) interpretation from there:"
   ]
  },
  {
   "cell_type": "code",
   "execution_count": 24,
   "metadata": {},
   "outputs": [
    {
     "data": {
      "text/plain": [
       "\u001b[36mta\u001b[39m: \u001b[32mTreeAutomaton\u001b[39m[\u001b[32m?0\u001b[39m] = 'VP,[u_35<root> {u_35_u_36, u_35_u_35}, u_36<subj> {u_35_u_36}]' -> sleep [1.0]\n",
       "'NP,[u_33<root> {u_33_u_33}]' -> boy [1.0]\n",
       "'RP,[u_34<root> {}]' -> who [1.0]\n",
       "'RP,[u_35<root> {}]' -> who [1.0]\n",
       "'RP,[u_36<root> {}]' -> who [1.0]\n",
       "'RP,[u_33<root> {}]' -> who [1.0]\n",
       "'VP,[u_35<root> {u_35_u_36, u_35_u_35}, u_36<subj> {u_35_u_36}]' -> sleeps [1.0]\n",
       "'NP,[u_36<root> {u_36_u_36}]' -> girl [1.0]\n",
       "'S,[u_34<root> {u_34_u_35, u_34_u_34, u_34_u_33}]'! -> comb_subj('NP,[u_33<root> {u_33_u_33}]', 'VP,[u_33<subj> {u_34_u_33}, u_34<root> {u_34_u_35, u_34_u_34, u_34_u_33}]') [1.0]\n",
       "'NP,[u_33<root> {u_34_u_33, u_33_u_33}]' -> mod_rc('NP,[u_33<root> {u_33_u_33}]', 'RC,[u_33<root> {u_34_u_33}]') [1.0]\n",
       "'VP,[u_33<subj> {u_34_u_33}, u_34<root> {u_34_u_35, u_34_u_34, u_34_u_33}]' -> want2('NP,[u_36<root> {u_36_u_36}]', 'VP,[u_35<root> {u_35_u_36, u_35_u_35}, u_36<subj> {u_35_u_36}]') [1.0]\n",
       "'S,[u_35<root> {u_35_u_36, u_35_u_35}]' -> comb_subj('NP,[u_36<root> {u_36_u_36}]', 'VP,[u_35<root> {u_35_u_36, u_35_u_35}, u_36<subj> {u_35_u_36}]') [1.0]\n",
       "'RC,[u_33<root> {u_34_u_33}]' -> rc('RP,[u_33<root> {}]', 'VP,[u_33<subj> {u_34_u_33}, u_34<root> {u_34_u_35, u_34_u_34, u_34_u_33}]') [1.0]\n"
      ]
     },
     "execution_count": 24,
     "metadata": {},
     "output_type": "execute_result"
    }
   ],
   "source": [
    "val ta = iwcs.parse(Map(\"graph\" -> \"(u_35 / sleep  :ARG0 (u_36 / girl)  :ARG1-of (u_34 / want  :ARG0 (u_33 / boy)))\"))"
   ]
  },
  {
   "cell_type": "code",
   "execution_count": 25,
   "metadata": {},
   "outputs": [
    {
     "data": {
      "text/plain": [
       "\u001b[36mlang\u001b[39m: \u001b[32mjava\u001b[39m.\u001b[32mutil\u001b[39m.\u001b[32mSet\u001b[39m[\u001b[32mTree\u001b[39m[\u001b[32mString\u001b[39m]] = [comb_subj(boy,want2(girl,sleeps)), comb_subj(boy,want2(girl,sleep))]"
      ]
     },
     "execution_count": 25,
     "metadata": {},
     "output_type": "execute_result"
    }
   ],
   "source": [
    "val lang = ta.language()"
   ]
  },
  {
   "cell_type": "code",
   "execution_count": 26,
   "metadata": {},
   "outputs": [
    {
     "data": {
      "text/plain": [
       "\u001b[36mres25\u001b[39m: \u001b[32mcollection\u001b[39m.\u001b[32mmutable\u001b[39m.\u001b[32mSet\u001b[39m[\u001b[32mObject\u001b[39m] = \u001b[33mSet\u001b[39m(\n",
       "  [the, boy, wants, the, girl, to, sleeps],\n",
       "  [the, boy, wants, the, girl, to, sleep]\n",
       ")"
      ]
     },
     "execution_count": 26,
     "metadata": {},
     "output_type": "execute_result"
    }
   ],
   "source": [
    "lang.asScala.map(iwcs.interpret(_, \"string\"))"
   ]
  },
  {
   "cell_type": "markdown",
   "metadata": {},
   "source": [
    "So these are the two sentences that could have generated the semantic used as input.  This IRTG can now both be used for going from sentence to semantics (i.e. infer meaning) and for going from semantics to sentence (i.e. to perform natural language generation)."
   ]
  },
  {
   "cell_type": "markdown",
   "metadata": {},
   "source": [
    "Template IRTGs and set algebra\n",
    "================\n",
    "template IRTGs contain derivations which are parametrized over a set of objects and relations, e.g. if you want to talk about buttons, have several of them but don't want to write the essentially the same rule over and over again.  Instantiating a TIRTG results in a normal IRTG."
   ]
  },
  {
   "cell_type": "code",
   "execution_count": 27,
   "metadata": {},
   "outputs": [
    {
     "data": {
      "text/plain": [
       "defined \u001b[32mfunction\u001b[39m \u001b[36mtirtgFromFile\u001b[39m"
      ]
     },
     "execution_count": 27,
     "metadata": {},
     "output_type": "execute_result"
    }
   ],
   "source": [
    "def tirtgFromFile(fname: String): TemplateInterpretedTreeAutomaton = {\n",
    "  val ic = new TemplateIrtgInputCodec()\n",
    "  ic.read(new FileInputStream(fname))\n",
    "}"
   ]
  },
  {
   "cell_type": "markdown",
   "metadata": {},
   "source": [
    "A model for a template is encoded as a json string.  This model defines three buttons and several predicates (button, round, square, left-of and right-of).  The relations are used to determine which template expansions take place.  A template rule looks like this:\n",
    "\n",
    "    foreach {a | square(a)}:\n",
    "    N_$a -> square_$a(N_$a)  \n",
    "    [sem] intersect_1(square, ?1)\n",
    "    [string] *(square, ?1)\n",
    "\n",
    "\n",
    "The foreach part determines that only entities for which the predicate square is in the model will be used for expansion.  For each of these entities, a rule is created by replacing `$a` with the name of that entity."
   ]
  },
  {
   "cell_type": "code",
   "execution_count": 28,
   "metadata": {},
   "outputs": [
    {
     "data": {
      "text/plain": [
       "\u001b[36mirtgModel\u001b[39m: \u001b[32mString\u001b[39m = \u001b[32m\"\"\"{ \"button\" : [[\"b1\"], [\"b2\"], [\"b3\"]],\n",
       "\"round\" : [[\"b1\"], [\"b3\"]],\n",
       "\"square\": [[\"b2\"]],\n",
       "\"left-of\": [[\"b1\",\"b2\"], [\"b2\",\"b3\"]],\n",
       "\"right-of\": [[\"b3\",\"b2\"], [\"b2\", \"b1\"]]}\n",
       "\"\"\"\u001b[39m"
      ]
     },
     "execution_count": 28,
     "metadata": {},
     "output_type": "execute_result"
    }
   ],
   "source": [
    "val irtgModel = \"\"\"{ \"button\" : [[\"b1\"], [\"b2\"], [\"b3\"]],\n",
    "\"round\" : [[\"b1\"], [\"b3\"]],\n",
    "\"square\": [[\"b2\"]],\n",
    "\"left-of\": [[\"b1\",\"b2\"], [\"b2\",\"b3\"]],\n",
    "\"right-of\": [[\"b3\",\"b2\"], [\"b2\", \"b1\"]]}\n",
    "\"\"\""
   ]
  },
  {
   "cell_type": "code",
   "execution_count": 29,
   "metadata": {},
   "outputs": [
    {
     "data": {
      "text/plain": [
       "\u001b[36msigT\u001b[39m: \u001b[32mTemplateInterpretedTreeAutomaton\u001b[39m = interpretation string: de.up.ling.irtg.algebra.StringAlgebra\n",
       "interpretation sem: de.up.ling.irtg.algebra.SetAlgebra\n",
       "[a] button[a]\n",
       "N_$a -> button_$a[]\n",
       "\n",
       "[a] blue[a]\n",
       "N_$a -> blue_$a[N_$a]\n",
       "\n",
       "[a] square[a]\n",
       "N_$a -> square_$a[N_$a]\n",
       "\n",
       "[a] green[a]\n",
       "N_$a -> green_$a[N_$a]\n",
       "\n",
       "[a] red[a]\n",
       "N_$a -> red_$a[N_$a]\n",
       "\n",
       "[a] yellow[a]\n",
       "N_$a -> yellow_$a[N_$a]\n",
       "\n",
       "[a] round[a]\n",
       "N_$a -> round_$a[N_$a]\n",
       "\n",
       "[a, b] right-of[a, b]\n",
       "N_$a -> rightof_$a_$b[N_$a, NP_$b]\n",
       "\n",
       "[a, b] left-of[a, b]\n",
       "N_$a -> leftof_$a_$b[N_$a, NP_$b]\n",
       "\n",
       "[a] T[a]\n",
       "NP_$a ! -> def_$a[N_$a]\n",
       "\n"
      ]
     },
     "execution_count": 29,
     "metadata": {},
     "output_type": "execute_result"
    }
   ],
   "source": [
    "val sigT = tirtgFromFile(\"examples/sig.tirtg\")"
   ]
  },
  {
   "cell_type": "code",
   "execution_count": 30,
   "metadata": {},
   "outputs": [
    {
     "data": {
      "text/plain": [
       "\u001b[36mfom\u001b[39m: \u001b[32mFirstOrderModel\u001b[39m = de.up.ling.irtg.util.FirstOrderModel@5a0f132e\n",
       "\u001b[36msigi\u001b[39m: \u001b[32mInterpretedTreeAutomaton\u001b[39m = interpretation string: de.up.ling.irtg.algebra.StringAlgebra\n",
       "interpretation sem: de.up.ling.irtg.algebra.SetAlgebra\n",
       "\n",
       "N_b3 -> button_b3 [1.0]\n",
       "  [string] button\n",
       "  [sem] button\n",
       "\n",
       "N_b2 -> button_b2 [1.0]\n",
       "  [string] button\n",
       "  [sem] button\n",
       "\n",
       "N_b1 -> button_b1 [1.0]\n",
       "  [string] button\n",
       "  [sem] button\n",
       "\n",
       "NP_b3! -> def_b3(N_b3) [1.0]\n",
       "  [string] *(the,?1)\n",
       "  [sem] member_b3(?1)\n",
       "\n",
       "N_b3 -> round_b3(N_b3) [1.0]\n",
       "  [string] *(round,?1)\n",
       "  [sem] intersect_1(round,?1)\n",
       "\n",
       "N_b3 -> rightof_b3_b2(N_b3, NP_b2) [1.0]\n",
       "  [string] *(?1,*('right of',?2))\n",
       "  [sem] project_1(intersect_2(intersect_1(right-of,?1),?2))\n",
       "\n",
       "N_b2 -> square_b2(N_b2) [1.0]\n",
       "  [string] *(square,?1)\n",
       "  [sem] intersect_1(square,?1)\n",
       "\n",
       "NP_b2! -> def_b2(N_b2) [1.0]\n",
       "  [string] *(the,?1)\n",
       "  [sem] member_b2(?1)\n",
       "\n",
       "N_b2 -> leftof_b2_b3(N_b2, NP_b3) [1.0]\n",
       "  [string] *(?1,*('left of',?2))\n",
       "  [sem] project_1(intersect_2(intersect_1(left-of,?1),?2))\n",
       "\n",
       "..."
      ]
     },
     "execution_count": 30,
     "metadata": {},
     "output_type": "execute_result"
    }
   ],
   "source": [
    "val fom = FirstOrderModel.read(new StringReader(irtgModel))\n",
    "val sigi = sigT.instantiate(fom)"
   ]
  },
  {
   "cell_type": "markdown",
   "metadata": {},
   "source": [
    "Now that the grammar is instantiated, we still need to tell the semantic interpretation about the model.  Otherwise it will be unable to create an interpretation."
   ]
  },
  {
   "cell_type": "code",
   "execution_count": 31,
   "metadata": {},
   "outputs": [
    {
     "data": {
      "text/plain": [
       "\u001b[36malg\u001b[39m: \u001b[32mAlgebra\u001b[39m[\u001b[32m?0\u001b[39m] = de.up.ling.irtg.algebra.SetAlgebra@21532d32"
      ]
     },
     "execution_count": 31,
     "metadata": {},
     "output_type": "execute_result"
    }
   ],
   "source": [
    "val alg = sigi.getInterpretation(\"sem\").getAlgebra()\n",
    "alg.asInstanceOf[SetAlgebra].setModel(fom)"
   ]
  },
  {
   "cell_type": "markdown",
   "metadata": {},
   "source": [
    "Everything is set up, the irtg can finally be used!\n",
    "Let's see what \"the square button\" and \"the button\" could refer to:"
   ]
  },
  {
   "cell_type": "code",
   "execution_count": 32,
   "metadata": {},
   "outputs": [
    {
     "data": {
      "text/plain": [
       "\u001b[36mres31_0\u001b[39m: \u001b[32mjava\u001b[39m.\u001b[32mutil\u001b[39m.\u001b[32mSet\u001b[39m[\u001b[32m?0\u001b[39m] = [[[b2]]]\n",
       "\u001b[36mres31_1\u001b[39m: \u001b[32mjava\u001b[39m.\u001b[32mutil\u001b[39m.\u001b[32mSet\u001b[39m[\u001b[32m?0\u001b[39m] = [[[b3]], [[b1]], [[b2]]]"
      ]
     },
     "execution_count": 32,
     "metadata": {},
     "output_type": "execute_result"
    }
   ],
   "source": [
    "sigi.decode(\"sem\", Map(\"string\" -> \"the square button\"))\n",
    "sigi.decode(\"sem\", Map(\"string\" -> \"the button\"))"
   ]
  },
  {
   "cell_type": "markdown",
   "metadata": {},
   "source": [
    "Again: No surprise.  There is only one square button in our model but \"the button\" could refer to any button.\n",
    "As the instantiated TIRTG is just an IRTG as the others used above, we can again create a chart, get the language of a chart and so on."
   ]
  },
  {
   "cell_type": "code",
   "execution_count": 33,
   "metadata": {},
   "outputs": [
    {
     "data": {
      "text/plain": [
       "\u001b[36mta\u001b[39m: \u001b[32mTreeAutomaton\u001b[39m[\u001b[32m?0\u001b[39m] = 'N_b3,2-3' -> button_b3 [1.0]\n",
       "'N_b2,2-3' -> button_b2 [1.0]\n",
       "'N_b1,2-3' -> button_b1 [1.0]\n",
       "'N_b2,1-3' -> square_b2('N_b2,2-3') [1.0]\n",
       "'NP_b2,0-3'! -> def_b2('N_b2,1-3') [1.0]\n"
      ]
     },
     "execution_count": 33,
     "metadata": {},
     "output_type": "execute_result"
    }
   ],
   "source": [
    "val ta = sigi.parse(Map(\"string\" -> \"the square button\"))"
   ]
  },
  {
   "cell_type": "code",
   "execution_count": 34,
   "metadata": {},
   "outputs": [
    {
     "data": {
      "text/plain": [
       "\u001b[36mres33\u001b[39m: \u001b[32mjava\u001b[39m.\u001b[32mutil\u001b[39m.\u001b[32mSet\u001b[39m[\u001b[32mTree\u001b[39m[\u001b[32mString\u001b[39m]] = [def_b2(square_b2(button_b2))]"
      ]
     },
     "execution_count": 34,
     "metadata": {},
     "output_type": "execute_result"
    }
   ],
   "source": [
    "ta.language()"
   ]
  },
  {
   "cell_type": "code",
   "execution_count": 35,
   "metadata": {},
   "outputs": [
    {
     "data": {
      "text/plain": [
       "\u001b[36msigia\u001b[39m: \u001b[32mTreeAutomaton\u001b[39m[\u001b[32mString\u001b[39m] = N_b3 -> button_b3 [1.0]\n",
       "N_b2 -> button_b2 [1.0]\n",
       "N_b1 -> button_b1 [1.0]\n",
       "NP_b3! -> def_b3(N_b3) [1.0]\n",
       "N_b3 -> round_b3(N_b3) [1.0]\n",
       "N_b3 -> rightof_b3_b2(N_b3, NP_b2) [1.0]\n",
       "N_b2 -> square_b2(N_b2) [1.0]\n",
       "NP_b2! -> def_b2(N_b2) [1.0]\n",
       "N_b2 -> leftof_b2_b3(N_b2, NP_b3) [1.0]\n",
       "N_b2 -> rightof_b2_b1(N_b2, NP_b1) [1.0]\n",
       "N_b1 -> round_b1(N_b1) [1.0]\n",
       "NP_b1! -> def_b1(N_b1) [1.0]\n",
       "N_b1 -> leftof_b1_b2(N_b1, NP_b2) [1.0]\n"
      ]
     },
     "execution_count": 35,
     "metadata": {},
     "output_type": "execute_result"
    }
   ],
   "source": [
    "val sigia = sigi.getAutomaton()"
   ]
  },
  {
   "cell_type": "code",
   "execution_count": 36,
   "metadata": {},
   "outputs": [
    {
     "data": {
      "text/plain": [
       "\u001b[36mli\u001b[39m: \u001b[32mjava\u001b[39m.\u001b[32mutil\u001b[39m.\u001b[32mIterator\u001b[39m[\u001b[32mTree\u001b[39m[\u001b[32mString\u001b[39m]] = com.google.common.collect.Iterators$6@793fc4b1"
      ]
     },
     "execution_count": 36,
     "metadata": {},
     "output_type": "execute_result"
    }
   ],
   "source": [
    "val li = sigia.languageIterator()"
   ]
  },
  {
   "cell_type": "markdown",
   "metadata": {},
   "source": [
    "Don't do something like this: `sigi.decode(\"string\", Map(\"sem\" -> \"{b2}\"))` There is an infinite number of sentences that could refer to button b2 and the decoding will never stop."
   ]
  }
 ],
 "metadata": {
  "kernelspec": {
   "display_name": "Scala",
   "language": "scala",
   "name": "scala"
  },
  "language_info": {
   "codemirror_mode": "text/x-scala",
   "file_extension": ".scala",
   "mimetype": "text/x-scala",
   "name": "scala",
   "nbconvert_exporter": "script",
   "version": "2.12.8"
  }
 },
 "nbformat": 4,
 "nbformat_minor": 2
}
